{
 "cells": [
  {
   "cell_type": "code",
   "execution_count": null,
   "id": "fed4371a-e3cd-49cf-b7bd-3d99b0a7572e",
   "metadata": {},
   "outputs": [],
   "source": [
    "#EXCERCISE 1"
   ]
  },
  {
   "cell_type": "code",
   "execution_count": null,
   "id": "701bd361-6f12-4470-b20c-8aec6f496534",
   "metadata": {},
   "outputs": [],
   "source": [
    "#Write a script to add two numbers and print the result\n",
    "print(2+2)"
   ]
  },
  {
   "cell_type": "code",
   "execution_count": 8,
   "id": "7e3a903f-2d3e-4b2c-a034-68bbe6d5fcb7",
   "metadata": {},
   "outputs": [
    {
     "name": "stdout",
     "output_type": "stream",
     "text": [
      "0\n"
     ]
    }
   ],
   "source": [
    "#Write a script to subtract two numbers and print the result\n",
    "print(2-2)"
   ]
  },
  {
   "cell_type": "code",
   "execution_count": 10,
   "id": "04605fa5-a088-486b-ab39-2ce8b50c91ba",
   "metadata": {},
   "outputs": [
    {
     "name": "stdout",
     "output_type": "stream",
     "text": [
      "4\n"
     ]
    }
   ],
   "source": [
    "#Write a script to multiply two numbers and print the result\n",
    "print(2*2)"
   ]
  },
  {
   "cell_type": "code",
   "execution_count": 12,
   "id": "0ffdbedf-1625-48b6-8d38-fdfc306e2dfe",
   "metadata": {},
   "outputs": [
    {
     "name": "stdout",
     "output_type": "stream",
     "text": [
      "3.0\n"
     ]
    }
   ],
   "source": [
    "#Write a script to divide two numbers and print the result.\n",
    "print(6/2)"
   ]
  },
  {
   "cell_type": "code",
   "execution_count": 18,
   "id": "9f453b82-9400-4968-927a-061f8638c68b",
   "metadata": {},
   "outputs": [
    {
     "name": "stdout",
     "output_type": "stream",
     "text": [
      "2\n"
     ]
    }
   ],
   "source": [
    "#Write a script to calculate the remainder of two numbers and print the result\n",
    "print(20%6)"
   ]
  },
  {
   "cell_type": "code",
   "execution_count": 30,
   "id": "e1ddb171-656c-4e18-a890-e1ff577510fb",
   "metadata": {},
   "outputs": [
    {
     "name": "stdout",
     "output_type": "stream",
     "text": [
      "104857600000000000000000000\n"
     ]
    }
   ],
   "source": [
    "#Write a script to calculate the power of a number and print the result\n",
    "num1 = int(20)\n",
    "\n",
    "\n",
    "print(num1**num1)"
   ]
  },
  {
   "cell_type": "code",
   "execution_count": null,
   "id": "ad6cdb8e-ac23-4788-acea-f39fc1950dad",
   "metadata": {},
   "outputs": [],
   "source": [
    "#EXCERCISE 2"
   ]
  },
  {
   "cell_type": "code",
   "execution_count": 32,
   "id": "b44df144-e23b-42bb-8fac-967b566b1ff0",
   "metadata": {},
   "outputs": [
    {
     "name": "stdout",
     "output_type": "stream",
     "text": [
      "['banana', 'apple', 'pineapple', 'peach', 'strawberry']\n"
     ]
    }
   ],
   "source": [
    "#Create a list of 5 different fruits and print the list\n",
    "fruits = ['banana','apple','pineapple','peach','strawberry']\n",
    "print(fruits)"
   ]
  },
  {
   "cell_type": "code",
   "execution_count": 38,
   "id": "ea6cd3c1-bced-423b-aefa-34d68d7ce29e",
   "metadata": {},
   "outputs": [
    {
     "name": "stdout",
     "output_type": "stream",
     "text": [
      "('tiger', 'lion', 'panda')\n"
     ]
    }
   ],
   "source": [
    "#Create a tuple of 3 different animals and print the tuple\n",
    "animals = ('tiger','lion','panda')\n",
    "print(animals)"
   ]
  },
  {
   "cell_type": "code",
   "execution_count": 40,
   "id": "021ebe0e-0d60-4254-8dae-e738efd97fb3",
   "metadata": {},
   "outputs": [],
   "source": [
    "#Create a dictionary of 3 different key-value pairs where the keys are names of\n",
    "#programming languages and the values are their release dates\n",
    "\n",
    "pairs = {\n",
    "    \"python\": \"20 February 1991\",\n",
    "    \"C\": \"1972\",\n",
    "    \"Java\": \"23 January 1996\"\n",
    "}"
   ]
  },
  {
   "cell_type": "code",
   "execution_count": 42,
   "id": "cd0e2114-8cda-4c94-b1c5-fa8c54c55730",
   "metadata": {},
   "outputs": [
    {
     "name": "stdout",
     "output_type": "stream",
     "text": [
      "{'green', 'blue', 'red'}\n"
     ]
    }
   ],
   "source": [
    "#Create a set of 3 different colours and print the set\n",
    "colours = {'green','red','blue'}\n",
    "\n",
    "print(colours)"
   ]
  },
  {
   "cell_type": "code",
   "execution_count": null,
   "id": "90caeaf4-c3a1-411e-a546-9c872c9336cc",
   "metadata": {},
   "outputs": [],
   "source": [
    "#Create a string variable that contains the sentence \"Python is an easy-to-learn\n",
    "#programming language.\"\n",
    "\n",
    "text = 'Python is an easy-to-learn programming language'"
   ]
  },
  {
   "cell_type": "code",
   "execution_count": null,
   "id": "e162c9ce-7183-4b94-9d6e-fc73e2d42ac0",
   "metadata": {},
   "outputs": [],
   "source": [
    "#Excercise 3"
   ]
  },
  {
   "cell_type": "code",
   "execution_count": null,
   "id": "231d9086-16b9-4ccd-8437-3509e157a4f4",
   "metadata": {},
   "outputs": [],
   "source": [
    "#Write a script that takes a user input of a number and checks if it is positive, negative or\n",
    "#zero. Print the results\n"
   ]
  },
  {
   "cell_type": "code",
   "execution_count": 52,
   "id": "f001ae1a-8295-4b87-b9fc-5e831cc591ba",
   "metadata": {},
   "outputs": [
    {
     "name": "stdin",
     "output_type": "stream",
     "text": [
      "Enter a number:  -5.5\n"
     ]
    },
    {
     "name": "stdout",
     "output_type": "stream",
     "text": [
      "negative\n"
     ]
    }
   ],
   "source": [
    "user_input = float(input(\"Enter a number: \"))\n",
    "\n",
    "if user_input > 0:\n",
    "    print(\"positive\")\n",
    "else:              \n",
    "    print(\"negative\")"
   ]
  },
  {
   "cell_type": "code",
   "execution_count": 58,
   "id": "8a4ca29d-c09d-44bd-8bc4-cae2529b0fcf",
   "metadata": {},
   "outputs": [
    {
     "name": "stdin",
     "output_type": "stream",
     "text": [
      "Enter some text alphabet\n"
     ]
    },
    {
     "name": "stdout",
     "output_type": "stream",
     "text": [
      "starts with vowel\n"
     ]
    }
   ],
   "source": [
    "#Write a script that takes a user input of a string and checks if it starts with a vowel or\n",
    "#consonant. Print the results.\n",
    "\n",
    "user_input = str(input(\"Enter some text\"))\n",
    "\n",
    "vowel = ['a','e','i','o','u']\n",
    "\n",
    "if user_input[0] in vowel:\n",
    "    print(\"starts with vowel\")\n",
    "else:\n",
    "    print(\"starts with consonant\")\n",
    "    "
   ]
  },
  {
   "cell_type": "code",
   "execution_count": 64,
   "id": "98c4b7b9-25ff-408c-a262-5cb79a0940d1",
   "metadata": {},
   "outputs": [
    {
     "name": "stdin",
     "output_type": "stream",
     "text": [
      "Enter number 1:  3\n",
      "Enter number 2:  5\n"
     ]
    },
    {
     "name": "stdout",
     "output_type": "stream",
     "text": [
      "Numbers are not equal\n"
     ]
    }
   ],
   "source": [
    "#Write a script that takes a user input of two numbers and checks if they are equal or not.\n",
    "#Print the results.\n",
    "num1 = float(input(\"Enter number 1: \"))\n",
    "num2 = float(input(\"Enter number 2: \"))\n",
    "\n",
    "if num1 == num2:\n",
    "    print(\"Numbers are equal\")\n",
    "else:\n",
    "    print(\"Numbers are not equal\")"
   ]
  },
  {
   "cell_type": "code",
   "execution_count": null,
   "id": "22f2a793-d9ee-4ddd-a9a2-02780a78c52a",
   "metadata": {},
   "outputs": [],
   "source": [
    "#Exercise 4"
   ]
  },
  {
   "cell_type": "code",
   "execution_count": 70,
   "id": "17a369d1-ec63-41d8-b40f-06a8ce3c5e8b",
   "metadata": {},
   "outputs": [
    {
     "name": "stdout",
     "output_type": "stream",
     "text": [
      "1\n",
      "2\n",
      "3\n",
      "4\n",
      "5\n",
      "6\n",
      "7\n",
      "8\n",
      "9\n",
      "10\n"
     ]
    }
   ],
   "source": [
    "#Write a script that prints the numbers from 1 to 10 using a for loop\n",
    "loop = 10\n",
    "\n",
    "for i in range(loop):\n",
    "    print (i+1)"
   ]
  },
  {
   "cell_type": "code",
   "execution_count": 80,
   "id": "27275e62-7d2e-47d9-a194-ac0e472093f9",
   "metadata": {},
   "outputs": [
    {
     "name": "stdout",
     "output_type": "stream",
     "text": [
      "2\n",
      "4\n",
      "6\n",
      "8\n",
      "10\n"
     ]
    }
   ],
   "source": [
    "#Write a script that prints the even numbers from 2 to 10 using a for loop\n",
    "\n",
    "\n",
    "for i in range(2, 11, 2): \n",
    "    print(i)\n"
   ]
  },
  {
   "cell_type": "code",
   "execution_count": 96,
   "id": "711208e9-0d6b-4ffc-8095-4ca53bff4f2c",
   "metadata": {},
   "outputs": [
    {
     "name": "stdout",
     "output_type": "stream",
     "text": [
      "Fn of 0 is : 1\n",
      "Fn of 1 is : 2\n",
      "Fn of 1 is : 3\n",
      "Fn of 2 is : 5\n",
      "Fn of 3 is : 8\n"
     ]
    }
   ],
   "source": [
    "#Write a script that prints the first 5 numbers of the Fibonacci sequence using a while loop\n",
    "# 0+0\n",
    "\n",
    "a = 0\n",
    "b = 1\n",
    "total = 0\n",
    "count = 0\n",
    "\n",
    "while count < 5:\n",
    "    total = 0\n",
    "    total = a + b\n",
    "    print(\"Fn of \"+ str(a) + \" is :\" ,total,)\n",
    "    a = b\n",
    "    b = total\n",
    "    count +=1\n",
    "\n",
    "    "
   ]
  },
  {
   "cell_type": "code",
   "execution_count": null,
   "id": "41c59ddf-5a8b-4a08-af95-788eede9c1da",
   "metadata": {},
   "outputs": [],
   "source": []
  }
 ],
 "metadata": {
  "kernelspec": {
   "display_name": "Python 3 (ipykernel)",
   "language": "python",
   "name": "python3"
  },
  "language_info": {
   "codemirror_mode": {
    "name": "ipython",
    "version": 3
   },
   "file_extension": ".py",
   "mimetype": "text/x-python",
   "name": "python",
   "nbconvert_exporter": "python",
   "pygments_lexer": "ipython3",
   "version": "3.12.4"
  }
 },
 "nbformat": 4,
 "nbformat_minor": 5
}
